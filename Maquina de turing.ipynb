{
 "cells": [
  {
   "cell_type": "markdown",
   "id": "178604d4",
   "metadata": {},
   "source": [
    "# Máquina de Turing\n",
    "\n",
    "Las máquinas de Turing (MT) son un modelo teórico de computación introducido por Alan Turing en 1936. Son consideradas como el modelo fundamental de la computación moderna y se utilizan para demostrar que cualquier problema algorítmico puede ser resuelto por una computadora."
   ]
  },
  {
   "cell_type": "markdown",
   "id": "ae02030f",
   "metadata": {},
   "source": [
    "**Descripción del programa:**\n",
    "El programa se compone de las siguientes secciones:\n",
    "\n",
    "**1. Importación de librerías:**"
   ]
  },
  {
   "cell_type": "code",
   "execution_count": 6,
   "id": "611f502d",
   "metadata": {},
   "outputs": [],
   "source": [
    "import sys"
   ]
  },
  {
   "cell_type": "markdown",
   "id": "e129e953",
   "metadata": {},
   "source": [
    "Se importa la librería sys para utilizar la función **exit()**."
   ]
  },
  {
   "cell_type": "markdown",
   "id": "1922349f",
   "metadata": {},
   "source": [
    "2. **Definición de la clase [Cinta]:**"
   ]
  },
  {
   "cell_type": "code",
   "execution_count": 10,
   "id": "745596f7",
   "metadata": {},
   "outputs": [],
   "source": [
    "class Cinta:\n",
    "    \"\"\"\n",
    "    Representa la cinta de la máquina de Turing.\n",
    "\n",
    "    Atributos:\n",
    "        contenido (list): Lista que almacena los símbolos de la cinta.\n",
    "        posicion (int): Índice de la posición actual de la cabeza de la cinta.\n",
    "\n",
    "    Métodos:\n",
    "        leer(self): Devuelve el símbolo en la posición actual de la cabeza.\n",
    "        escribir(self, simbolo): Escribe un símbolo en la posición actual de la cabeza.\n",
    "        mover_izquierda(self): Mueve la cabeza una posición a la izquierda.\n",
    "        mover_derecha(self): Mueve la cabeza una posición a la derecha.\n",
    "        ir_a_izquierda(self): Mueve la cabeza al extremo izquierdo de la cinta.\n",
    "        ir_a_derecha(self): Mueve la cabeza al extremo derecho de la cinta.\n",
    "        mostrar(self): Imprime el contenido de la cinta.\n",
    "    \"\"\"\n",
    "\n",
    "    def __init__(self, cinta_inicial):\n",
    "        self.contenido = list(cinta_inicial)\n",
    "        self.posicion = 0\n",
    "    \n",
    "    def leer(self):\n",
    "        return self.contenido[self.posicion]\n",
    "    \n",
    "    def escribir(self, simbolo):\n",
    "        self.contenido[self.posicion] = simbolo\n",
    "    \n",
    "    def mover_izquierda(self):\n",
    "        if self.posicion > 0:\n",
    "            self.posicion -= 1\n",
    "    \n",
    "    def mover_derecha(self):\n",
    "        if self.posicion < len(self.contenido) - 1:\n",
    "            self.posicion += 1\n",
    "\n",
    "    def mostrar(self):\n",
    "        print(''.join(self.contenido))\n"
   ]
  },
  {
   "cell_type": "markdown",
   "id": "676eeee7",
   "metadata": {},
   "source": [
    "La clase **Cinta** representa la cinta de la MT. Almacena el contenido de la cinta como una lista de símbolos y la posición actual de la cabeza de la cinta. La clase proporciona métodos para leer y escribir símbolos en la cinta, mover la cabeza a la izquierda o derecha, e ir al extremo izquierdo o derecho de la cinta."
   ]
  },
  {
   "cell_type": "markdown",
   "id": "6f8a7f5f",
   "metadata": {},
   "source": [
    " **3. Definición de la clase [Estado]:**"
   ]
  },
  {
   "cell_type": "code",
   "execution_count": 11,
   "id": "6bdd706c",
   "metadata": {},
   "outputs": [],
   "source": [
    "class Estado:\n",
    "    \"\"\"\n",
    "    Representa un estado de la máquina de Turing.\n",
    "\n",
    "    Atributos:\n",
    "        simbolo_actual (str): El símbolo que se lee en el estado actual.\n",
    "        nuevo_simbolo (str): El símbolo que se escribe en la cinta.\n",
    "        movimiento_cabeza (str): La dirección en la que se mueve la cabeza ('L' para izquierda, 'R' para derecha).\n",
    "        siguiente_estado (str): El nombre del siguiente estado al que se pasa.\n",
    "\n",
    "    Métodos:\n",
    "        __str__(self): Devuelve una representación en cadena del estado.\n",
    "    \"\"\"\n",
    "\n",
    "    def __init__(self, simbolo_actual, nuevo_simbolo, movimiento_cabeza, siguiente_estado):\n",
    "        self.simbolo_actual = simbolo_actual\n",
    "        self.nuevo_simbolo = nuevo_simbolo\n",
    "        self.movimiento_cabeza = movimiento_cabeza\n",
    "        self.siguiente_estado = siguiente_estado\n",
    "    \n",
    "    def __str__(self):\n",
    "        return f\"({self.simbolo_actual}, {self.nuevo_simbolo}, {self.movimiento_cabeza}, {self.siguiente_estado})\"\n",
    "\n"
   ]
  },
  {
   "cell_type": "markdown",
   "id": "78dbec63",
   "metadata": {},
   "source": [
    "La clase **Estado** representa un estado de la MT. Almacena el símbolo que se lee en el estado actual, el símbolo que se escribe en la cinta, la dirección en que se mueve la cabeza y el nombre del siguiente estado al que se pasa. La clase proporciona un método **__str__** para imprimir una representación en cadena del estado."
   ]
  },
  {
   "cell_type": "markdown",
   "id": "f32fdc31",
   "metadata": {},
   "source": [
    "**4. Definición de la clase [MaquinaTuring]:**"
   ]
  },
  {
   "cell_type": "code",
   "execution_count": 13,
   "id": "428a3d5b",
   "metadata": {},
   "outputs": [],
   "source": [
    "class MaquinaTuring:\n",
    "    \"\"\"\n",
    "    Representa una máquina de Turing.\n",
    "\n",
    "    Una máquina de Turing es un modelo matemático de computación que consiste en una cinta infinita y una cabeza de lectura/escritura que se mueve a lo largo de la cinta. La máquina opera sobre la cinta de acuerdo a un conjunto de reglas de transición definidas en sus estados.\n",
    "\n",
    "    Atributos:\n",
    "        cinta (Cinta): La cinta de la máquina de Turing, que contiene los símbolos sobre los cuales opera la máquina.\n",
    "        estado_actual (str): El nombre del estado actual de la máquina de Turing.\n",
    "        estados (dict): Un diccionario que almacena los estados de la máquina, donde las claves son los nombres de los estados y los valores son objetos de la clase Estado.\n",
    "\n",
    "    Métodos:\n",
    "        __init__(self, cinta_inicial, estado_inicial): Inicializa una máquina de Turing con una cinta y un estado inicial.\n",
    "        agregar_estado(self, nombre_estado, estado): Agrega un estado y sus transiciones a la máquina de Turing.\n",
    "        ejecutar(self): Ejecuta la máquina de Turing hasta alcanzar un estado de parada (HALT).\n",
    "    \"\"\"\n",
    "\n",
    "    def __init__(self, cinta_inicial, estado_inicial):\n",
    "        self.cinta = Cinta(cinta_inicial)\n",
    "        self.estado_actual = estado_inicial\n",
    "        self.estados = {}\n",
    "    \n",
    "    def agregar_estado(self, nombre_estado, estado):\n",
    "        self.estados[nombre_estado] = estado\n",
    "    \n",
    "    def ejecutar(self):\n",
    "        while self.estado_actual != \"HALT\":\n",
    "            estado = self.estados[self.estado_actual]\n",
    "            simbolo_actual = self.cinta.leer()\n",
    "            transicion = estado.get(simbolo_actual)\n",
    "\n",
    "            if transicion is None:\n",
    "                print(\"Error: No se encontró una transición para el símbolo actual.\")\n",
    "                break\n",
    "\n",
    "            self.cinta.escribir(transicion.nuevo_simbolo)\n",
    "            if transicion.movimiento_cabeza == 'L':\n",
    "                self.cinta.mover_izquierda()\n",
    "            elif transicion.movimiento_cabeza == 'R':\n",
    "                self.cinta.mover_derecha()\n",
    "            self.estado_actual = transicion.siguiente_estado\n",
    "\n",
    "            self.cinta.mostrar()\n",
    "\n",
    "\n"
   ]
  },
  {
   "cell_type": "markdown",
   "id": "cc5acd2d",
   "metadata": {},
   "source": [
    " ## Ejemplo de uso\n",
    " Para ilustrar cómo utilizar estas clases, se puede definir una máquina de Turing simple y ejecutar su lógica"
   ]
  },
  {
   "cell_type": "markdown",
   "id": "1311533f",
   "metadata": {},
   "source": [
    "Supongamos que queremos construir una máquina de Turing que simplemente invierte unos y ceros en una cinta (donde los '0' se convierten en '1' y los '1' se convierten en '0') y luego se detiene.\n",
    "\n",
    "**Definir el estado inicial y el estado de parada (HALT):**\n",
    "\n",
    "**estado_inicial**: El estado donde la máquina comienza.\n",
    "**estado_halt**: El estado que indica que la máquina debe detenerse.\n",
    "\n",
    "**Crear la máquina de Turing**:\n",
    "\n",
    "Necesitamos una cinta inicial (una secuencia de ceros y unos) y el estado inicial.\n",
    "\n",
    "**Agregar los estados y las transiciones**:\n",
    "\n",
    "Cada estado define qué hacer cuando la máquina lee un símbolo específico.\n",
    "La transición especifica qué escribir en la cinta, cómo mover la cabeza de lectura/escritura, y cuál es el siguiente estado.\n",
    "\n",
    "**Ejecutar la máquina**:\n",
    "\n",
    "La máquina seguirá las transiciones definidas hasta llegar al estado de parada."
   ]
  },
  {
   "cell_type": "code",
   "execution_count": 14,
   "id": "7414fd41",
   "metadata": {},
   "outputs": [
    {
     "name": "stdout",
     "output_type": "stream",
     "text": [
      "100110\n",
      "110110\n"
     ]
    }
   ],
   "source": [
    "# Definir los estados de la máquina de Turing\n",
    "estado_inicial = \"q0\"\n",
    "estado_halt = \"HALT\"\n",
    "\n",
    "# Crear una instancia de la máquina de Turing\n",
    "mt = MaquinaTuring(\"000110\", estado_inicial)\n",
    "\n",
    "# Agregar los estados y transiciones\n",
    "mt.agregar_estado(\"q0\", {\n",
    "    '0': Estado('0', '1', 'R', 'q1'),\n",
    "    '1': Estado('1', '0', 'R', 'HALT')\n",
    "})\n",
    "mt.agregar_estado(\"q1\", {\n",
    "    '0': Estado('0', '1', 'R', 'HALT'),\n",
    "    '1': Estado('1', '0', 'R', 'q0')\n",
    "})\n",
    "\n",
    "# Ejecutar la máquina de Turing\n",
    "mt.ejecutar()\n"
   ]
  },
  {
   "cell_type": "code",
   "execution_count": null,
   "id": "13962812",
   "metadata": {},
   "outputs": [],
   "source": []
  }
 ],
 "metadata": {
  "kernelspec": {
   "display_name": "Python 3 (ipykernel)",
   "language": "python",
   "name": "python3"
  },
  "language_info": {
   "codemirror_mode": {
    "name": "ipython",
    "version": 3
   },
   "file_extension": ".py",
   "mimetype": "text/x-python",
   "name": "python",
   "nbconvert_exporter": "python",
   "pygments_lexer": "ipython3",
   "version": "3.11.4"
  }
 },
 "nbformat": 4,
 "nbformat_minor": 5
}
