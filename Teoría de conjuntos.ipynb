{
 "cells": [
  {
   "cell_type": "markdown",
   "id": "82bf971c",
   "metadata": {},
   "source": [
    "## Teoría de conjuntos en Python\n",
    "\n",
    "\n",
    "\n",
    "\n",
    "\n",
    "\n",
    "\n",
    "\n",
    "## Creación de conjuntos\n",
    "\n",
    "TEORÍA DE CONJUNTOS\n",
    "\n",
    "En python, puedes crear un conjunto utilizando llaves {} o la función set()"
   ]
  },
  {
   "cell_type": "code",
   "execution_count": null,
   "id": "024b30e4",
   "metadata": {},
   "outputs": [],
   "source": [
    "A = {1, 2, 3, 4, 5}"
   ]
  },
  {
   "cell_type": "code",
   "execution_count": null,
   "id": "6ff95263",
   "metadata": {},
   "outputs": [],
   "source": [
    "B = {3, 4, 5, 6, 7}"
   ]
  },
  {
   "cell_type": "code",
   "execution_count": null,
   "id": "93538040",
   "metadata": {},
   "outputs": [],
   "source": [
    "C = set([3, 6, 9, 12, 15])"
   ]
  },
  {
   "cell_type": "markdown",
   "id": "65a85115",
   "metadata": {},
   "source": [
    "TABLA"
   ]
  },
  {
   "cell_type": "code",
   "execution_count": null,
   "id": "2fae07af",
   "metadata": {},
   "outputs": [],
   "source": [
    "lista = {1, 2, 3, 4, 5, 1, 2, 3, 4, 5}"
   ]
  },
  {
   "cell_type": "code",
   "execution_count": null,
   "id": "e8e5f56c",
   "metadata": {
    "scrolled": true
   },
   "outputs": [],
   "source": [
    "lista"
   ]
  },
  {
   "cell_type": "code",
   "execution_count": null,
   "id": "c8cf8607",
   "metadata": {},
   "outputs": [],
   "source": [
    "conjunto = set(lista)"
   ]
  },
  {
   "cell_type": "markdown",
   "id": "420f2f1e",
   "metadata": {},
   "source": [
    "### Operaciones\n",
    "\n",
    "Python proporciona operadores y métodos para realizar operaciones basicas de conjuntos como union, s\n",
    "\n"
   ]
  },
  {
   "cell_type": "code",
   "execution_count": null,
   "id": "af0d8f51",
   "metadata": {
    "scrolled": true
   },
   "outputs": [],
   "source": [
    " $$\n",
    "    C = A \\cup B = {x:x \\in A \\quad o \\quad x \\in B}\n",
    "$$"
   ]
  },
  {
   "cell_type": "markdown",
   "id": "35acbc42",
   "metadata": {},
   "source": [
    "#### Unión"
   ]
  },
  {
   "cell_type": "code",
   "execution_count": null,
   "id": "1e8920b6",
   "metadata": {
    "scrolled": true
   },
   "outputs": [],
   "source": [
    "A | B"
   ]
  },
  {
   "cell_type": "code",
   "execution_count": null,
   "id": "ffa56faa",
   "metadata": {
    "scrolled": true
   },
   "outputs": [],
   "source": [
    "A.union(B)"
   ]
  },
  {
   "cell_type": "markdown",
   "id": "7efb7df4",
   "metadata": {},
   "source": [
    "#### Intersección"
   ]
  },
  {
   "cell_type": "code",
   "execution_count": null,
   "id": "14b0eae5",
   "metadata": {},
   "outputs": [],
   "source": [
    "A & B"
   ]
  },
  {
   "cell_type": "markdown",
   "id": "660f0256",
   "metadata": {},
   "source": [
    "#### Diferencia"
   ]
  },
  {
   "cell_type": "code",
   "execution_count": null,
   "id": "de5d3f9a",
   "metadata": {},
   "outputs": [],
   "source": [
    "A - B"
   ]
  },
  {
   "cell_type": "markdown",
   "id": "7a4ab610",
   "metadata": {},
   "source": [
    "#### Diferencia Simétrica"
   ]
  },
  {
   "cell_type": "code",
   "execution_count": null,
   "id": "92218cd1",
   "metadata": {},
   "outputs": [],
   "source": [
    "A ^ B"
   ]
  }
 ],
 "metadata": {
  "kernelspec": {
   "display_name": "Python 3 (ipykernel)",
   "language": "python",
   "name": "python3"
  },
  "language_info": {
   "codemirror_mode": {
    "name": "ipython",
    "version": 3
   },
   "file_extension": ".py",
   "mimetype": "text/x-python",
   "name": "python",
   "nbconvert_exporter": "python",
   "pygments_lexer": "ipython3",
   "version": "3.11.5"
  }
 },
 "nbformat": 4,
 "nbformat_minor": 5
}
