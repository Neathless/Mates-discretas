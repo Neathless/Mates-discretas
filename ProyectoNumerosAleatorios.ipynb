{
 "cells": [
  {
   "cell_type": "markdown",
   "id": "c6c266e4",
   "metadata": {},
   "source": [
    "# Generador de Números Aleatorios"
   ]
  },
  {
   "cell_type": "markdown",
   "id": "f69412ee",
   "metadata": {},
   "source": [
    "**Objetivo del Proyecto**\n",
    "\n",
    "El objetivo de este proyecto es implementar un generador de números pseudoaleatorios en Python utilizando el algoritmo Generador Congruencial Lineal (GCL), sin recurrir a la biblioteca random de Python. Este proyecto busca proporcionar una comprensión más profunda de cómo funcionan los generadores de números aleatorios a bajo nivel y ofrecer una alternativa personalizable al uso de bibliotecas preconstruidas."
   ]
  },
  {
   "cell_type": "markdown",
   "id": "90e749c5",
   "metadata": {},
   "source": [
    "<img src=https://i.ytimg.com/vi/KbKG7ILgDOQ/maxresdefault.jpg>"
   ]
  },
  {
   "cell_type": "markdown",
   "id": "d55cd4f9",
   "metadata": {},
   "source": [
    "**Descripción del Algoritmo GCL**\n",
    "El Generador Congruencial Lineal (GCL) es uno de los métodos más antiguos y simples para generar números pseudoaleatorios. La fórmula utilizada por el GCL es la siguiente:\n",
    "\n",
    "**semilla`n+1` = (a x semillan + c ) mod modulo**\n",
    "\n",
    "donde:\n",
    "`semilla` es el valor inicial (semilla).\n",
    "`a` es el multiplicador.\n",
    "`c` es el incremento.\n",
    "`modulo` es el modulo que define el rango de los numero generados."
   ]
  },
  {
   "cell_type": "markdown",
   "id": "936ba6f6",
   "metadata": {},
   "source": [
    "**Código del Proyecto**\n"
   ]
  },
  {
   "cell_type": "code",
   "execution_count": 1,
   "id": "ea8e2ea7",
   "metadata": {},
   "outputs": [
    {
     "name": "stdout",
     "output_type": "stream",
     "text": [
      "¿Cuántos números aleatorios deseas generar? 5\n",
      "Número aleatorio 1: 648\n",
      "Número aleatorio 2: 423\n",
      "Número aleatorio 3: 298\n",
      "Número aleatorio 4: 673\n",
      "Número aleatorio 5: 548\n"
     ]
    }
   ],
   "source": [
    "import time\n",
    "\n",
    "def gcl(modulo, a, c, semilla):\n",
    "    while True:\n",
    "        semilla = (a * semilla + c) % modulo\n",
    "        yield semilla\n",
    "\n",
    "# Parámetros del GCL ajustados para generar números más pequeños\n",
    "modulo = 1000  # Esto limita los números a estar en el rango de 0 a 99\n",
    "a = 1664525\n",
    "c = 1013904223\n",
    "semilla = int(time.time())\n",
    "\n",
    "# Solicitar al usuario la cantidad de números aleatorios que desea generar\n",
    "cantidad_a_generar = int(input(\"¿Cuántos números aleatorios deseas generar? \"))\n",
    "\n",
    "# Crear el generador de números aleatorios\n",
    "generador_aleatorio = gcl(modulo, a, c, semilla)\n",
    "\n",
    "# Generar y mostrar los números aleatorios\n",
    "numeros_aleatorios = [next(generador_aleatorio) for _ in range(cantidad_a_generar)]\n",
    "\n",
    "# Mostrar los números aleatorios generados\n",
    "for i, numero in enumerate(numeros_aleatorios, 1):\n",
    "    print(f\"Número aleatorio {i}: {numero}\")\n"
   ]
  },
  {
   "cell_type": "code",
   "execution_count": null,
   "id": "3d94b138",
   "metadata": {},
   "outputs": [],
   "source": []
  }
 ],
 "metadata": {
  "kernelspec": {
   "display_name": "Python 3 (ipykernel)",
   "language": "python",
   "name": "python3"
  },
  "language_info": {
   "codemirror_mode": {
    "name": "ipython",
    "version": 3
   },
   "file_extension": ".py",
   "mimetype": "text/x-python",
   "name": "python",
   "nbconvert_exporter": "python",
   "pygments_lexer": "ipython3",
   "version": "3.11.4"
  }
 },
 "nbformat": 4,
 "nbformat_minor": 5
}
