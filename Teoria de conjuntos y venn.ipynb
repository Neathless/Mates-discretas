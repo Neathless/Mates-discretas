{
 "cells": [
  {
   "cell_type": "markdown",
   "id": "82bf971c",
   "metadata": {},
   "source": [
    "## Teoría de conjuntos en Python\n",
    "\n",
    "\n",
    "\n",
    "\n",
    "\n",
    "\n",
    "\n",
    "\n",
    "## Creación de conjuntos\n",
    "\n",
    "TEORÍA DE CONJUNTOS\n",
    "\n",
    "En python, puedes crear un conjunto utilizando llaves {} o la función set()"
   ]
  },
  {
   "cell_type": "code",
   "execution_count": null,
   "id": "024b30e4",
   "metadata": {},
   "outputs": [],
   "source": [
    "A = {1, 2, 3, 4, 5}"
   ]
  },
  {
   "cell_type": "code",
   "execution_count": null,
   "id": "6ff95263",
   "metadata": {},
   "outputs": [],
   "source": [
    "B = {3, 4, 5, 6, 7}"
   ]
  },
  {
   "cell_type": "code",
   "execution_count": null,
   "id": "93538040",
   "metadata": {},
   "outputs": [],
   "source": [
    "C = set([3, 6, 9, 12, 15])"
   ]
  },
  {
   "cell_type": "markdown",
   "id": "65a85115",
   "metadata": {},
   "source": [
    "TABLA"
   ]
  },
  {
   "cell_type": "code",
   "execution_count": null,
   "id": "2fae07af",
   "metadata": {},
   "outputs": [],
   "source": [
    "lista = {1, 2, 3, 4, 5, 1, 2, 3, 4, 5}"
   ]
  },
  {
   "cell_type": "code",
   "execution_count": null,
   "id": "e8e5f56c",
   "metadata": {
    "scrolled": true
   },
   "outputs": [],
   "source": [
    "lista"
   ]
  },
  {
   "cell_type": "code",
   "execution_count": null,
   "id": "c8cf8607",
   "metadata": {},
   "outputs": [],
   "source": [
    "conjunto = set(lista)"
   ]
  },
  {
   "cell_type": "markdown",
   "id": "420f2f1e",
   "metadata": {},
   "source": [
    "### Operaciones\n",
    "\n",
    "Python proporciona operadores y métodos para realizar operaciones basicas de conjuntos como union, s\n",
    "\n"
   ]
  },
  {
   "cell_type": "code",
   "execution_count": null,
   "id": "af0d8f51",
   "metadata": {
    "scrolled": true
   },
   "outputs": [],
   "source": [
    " $$\n",
    "    C = A \\cup B = {x:x \\in A \\quad o \\quad x \\in B}\n",
    "$$"
   ]
  },
  {
   "cell_type": "markdown",
   "id": "35acbc42",
   "metadata": {},
   "source": [
    "#### Unión"
   ]
  },
  {
   "cell_type": "code",
   "execution_count": null,
   "id": "1e8920b6",
   "metadata": {
    "scrolled": true
   },
   "outputs": [],
   "source": [
    "A | B"
   ]
  },
  {
   "cell_type": "code",
   "execution_count": null,
   "id": "ffa56faa",
   "metadata": {
    "scrolled": true
   },
   "outputs": [],
   "source": [
    "A.union(B)"
   ]
  },
  {
   "cell_type": "markdown",
   "id": "7efb7df4",
   "metadata": {},
   "source": [
    "#### Intersección"
   ]
  },
  {
   "cell_type": "code",
   "execution_count": null,
   "id": "14b0eae5",
   "metadata": {},
   "outputs": [],
   "source": [
    "A & B"
   ]
  },
  {
   "cell_type": "markdown",
   "id": "660f0256",
   "metadata": {},
   "source": [
    "#### Diferencia"
   ]
  },
  {
   "cell_type": "code",
   "execution_count": null,
   "id": "de5d3f9a",
   "metadata": {},
   "outputs": [],
   "source": [
    "A - B"
   ]
  },
  {
   "cell_type": "markdown",
   "id": "7a4ab610",
   "metadata": {},
   "source": [
    "#### Diferencia Simétrica"
   ]
  },
  {
   "cell_type": "code",
   "execution_count": null,
   "id": "92218cd1",
   "metadata": {},
   "outputs": [],
   "source": [
    "A ^ B"
   ]
  },
  {
   "cell_type": "markdown",
   "id": "98f2e7b0",
   "metadata": {},
   "source": [
    "# Unión de conjuntos\n",
    "La unión de dos conjuntos A y B devuelve un nuevo conjunto que contiene todos los elementos de A y B sin duplicados."
   ]
  },
  {
   "cell_type": "code",
   "execution_count": 1,
   "id": "f1ad2846",
   "metadata": {},
   "outputs": [
    {
     "name": "stdout",
     "output_type": "stream",
     "text": [
      "{1, 2, 3, 4, 5}\n"
     ]
    }
   ],
   "source": [
    "conjunto1 = {1, 2, 3}\n",
    "conjunto2 = {3, 4, 5}\n",
    "\n",
    "union = conjunto1.union(conjunto2)\n",
    "print(union)  # output: {1, 2, 3, 4, 5}"
   ]
  },
  {
   "cell_type": "markdown",
   "id": "c51764ea",
   "metadata": {},
   "source": [
    "$A \\cup B = \\{x \\mid x \\in A \\text{ o } x \\in B\\}$\n"
   ]
  },
  {
   "cell_type": "markdown",
   "id": "151ca00d",
   "metadata": {},
   "source": [
    "También puedes usar el operador | para realizar la unión de conjuntos:"
   ]
  },
  {
   "cell_type": "code",
   "execution_count": null,
   "id": "67089919",
   "metadata": {},
   "outputs": [],
   "source": [
    "union = conjunto1 | conjunto2\n",
    "print(union)  # output: {1, 2, 3, 4, 5}"
   ]
  },
  {
   "cell_type": "markdown",
   "id": "c4a6fcfd",
   "metadata": {},
   "source": [
    "# Intersección de conjuntos\n",
    "La intersección de dos conjuntos A y B devuelve un nuevo conjunto que contiene los elementos que son comunes a ambos conjuntos."
   ]
  },
  {
   "cell_type": "code",
   "execution_count": null,
   "id": "878d1d7f",
   "metadata": {},
   "outputs": [],
   "source": [
    "conjunto1 = {1, 2, 3}\n",
    "conjunto2 = {3, 4, 5}\n",
    "\n",
    "interseccion = conjunto1.intersection(conjunto2)\n",
    "print(interseccion)  # output: {3}"
   ]
  },
  {
   "cell_type": "markdown",
   "id": "e4d37a1b",
   "metadata": {},
   "source": [
    "$A \\cap B = \\{x \\in A \\mid x \\in B\\}$"
   ]
  },
  {
   "cell_type": "markdown",
   "id": "87a055cb",
   "metadata": {},
   "source": [
    "También puedes usar el operador & para realizar la intersección de conjuntos:"
   ]
  },
  {
   "cell_type": "code",
   "execution_count": null,
   "id": "d27c2bec",
   "metadata": {},
   "outputs": [],
   "source": [
    "    interseccion = conjunto1 & conjunto2\n",
    "print(interseccion)  # output: {3}"
   ]
  },
  {
   "cell_type": "markdown",
   "id": "7b11b5b5",
   "metadata": {},
   "source": [
    "# Diferencia de conjuntos\n",
    "La diferencia de dos conjuntos A y B devuelve un nuevo conjunto que contiene los elementos que están en A pero no en B."
   ]
  },
  {
   "cell_type": "code",
   "execution_count": null,
   "id": "84be9a08",
   "metadata": {},
   "outputs": [],
   "source": [
    "También puedes usar el operador - para realizar la diferencia de conjuntos:"
   ]
  },
  {
   "cell_type": "code",
   "execution_count": null,
   "id": "58f7ea73",
   "metadata": {},
   "outputs": [],
   "source": [
    "diferencia = conjunto1 - conjunto2\n",
    "print(diferencia)  # output: {1, 2}"
   ]
  },
  {
   "cell_type": "markdown",
   "id": "d42fd409",
   "metadata": {},
   "source": [
    "$A \\setminus B = \\{x \\in A \\mid x \\notin B\\}$\n"
   ]
  },
  {
   "cell_type": "markdown",
   "id": "0af8cbda",
   "metadata": {},
   "source": [
    "# Diferencia simetrica"
   ]
  },
  {
   "cell_type": "code",
   "execution_count": 3,
   "id": "a10cd8e7",
   "metadata": {},
   "outputs": [
    {
     "name": "stdout",
     "output_type": "stream",
     "text": [
      "La diferencia simétrica de los conjuntos es: {1, 2, 3, 6, 7, 8}\n"
     ]
    }
   ],
   "source": [
    "# Definir dos conjuntos\n",
    "conjunto1 = {1, 2, 3, 4, 5}\n",
    "conjunto2 = {4, 5, 6, 7, 8}\n",
    "\n",
    "# Calcular la diferencia simétrica de los conjuntos\n",
    "diferencia_simetrica = conjunto1.symmetric_difference(conjunto2)\n",
    "\n",
    "# Imprimir el resultado\n",
    "print(\"La diferencia simétrica de los conjuntos es:\", diferencia_simetrica)\n"
   ]
  },
  {
   "cell_type": "markdown",
   "id": "2861edcf",
   "metadata": {},
   "source": [
    "A \\setminus B \\cup B \\setminus A = \\\\{x : (x \\in A \\text{ y } x \\notin B) \\text{ o } (x \\notin A \\text{ y } x \\in B)\\\\}"
   ]
  },
  {
   "cell_type": "code",
   "execution_count": 9,
   "id": "0cc5a5e6",
   "metadata": {},
   "outputs": [],
   "source": [
    "import matplotlib"
   ]
  },
  {
   "cell_type": "code",
   "execution_count": null,
   "id": "ffad51d8",
   "metadata": {},
   "outputs": [],
   "source": []
  },
  {
   "cell_type": "markdown",
   "id": "52f59167",
   "metadata": {},
   "source": [
    "# DIAGRAMA DE VENN"
   ]
  },
  {
   "cell_type": "markdown",
   "id": "665f4706",
   "metadata": {},
   "source": [
    "Para crear un diagrama de Venn de tres conjuntos en Python, puedes usar la biblioteca matplotlib_venn. Aquí tienes un ejemplo básico de cómo hacerlo:"
   ]
  },
  {
   "cell_type": "code",
   "execution_count": 10,
   "id": "af0ca95e",
   "metadata": {},
   "outputs": [
    {
     "data": {
      "image/png": "[encoded data removed]",
      "text/plain": [
       "<Figure size 640x480 with 1 Axes>"
      ]
     },
     "metadata": {},
     "output_type": "display_data"
    }
   ],
   "source": [
    "import matplotlib.pyplot as plt\n",
    "from matplotlib_venn import venn3\n",
    "\n",
    "# Conjuntos dados\n",
    "A = {1, 2, 3, 4, 5}\n",
    "B = {3, 4, 5, 6, 7}\n",
    "C = set([3, 6, 9, 12, 15])\n",
    "\n",
    "# Calcular intersecciones\n",
    "AB = A.intersection(B)\n",
    "AC = A.intersection(C)\n",
    "BC = B.intersection(C)\n",
    "ABC = A.intersection(B, C)\n",
    "\n",
    "# Crear el diagrama de Venn\n",
    "venn = venn3(subsets=(len(A - AB - AC - ABC), len(B - AB - BC - ABC), len(AB - ABC), len(C - AC - BC - ABC), len(AC - ABC), len(BC - ABC), len(ABC)),\n",
    "             set_labels=('A', 'B', 'C'))\n",
    "\n",
    "# Mostrar el diagrama\n",
    "plt.title(\"Diagrama de Venn\")\n",
    "plt.show()\n",
    "\n"
   ]
  },
  {
   "cell_type": "markdown",
   "id": "afaac59f",
   "metadata": {},
   "source": [
    "y para un digrama de de dos conjuntos:"
   ]
  },
  {
   "cell_type": "code",
   "execution_count": 11,
   "id": "11ae3561",
   "metadata": {},
   "outputs": [
    {
     "data": {
      "image/png": "[encoded data removed]",
      "text/plain": [
       "<Figure size 640x480 with 1 Axes>"
      ]
     },
     "metadata": {},
     "output_type": "display_data"
    }
   ],
   "source": [
    "import matplotlib.pyplot as plt\n",
    "from matplotlib_venn import venn2\n",
    "\n",
    "# Definir los conjuntos\n",
    "A = {1, 2, 3, 4, 5}\n",
    "B = {3, 4, 5, 6, 7}\n",
    "\n",
    "# Crear el diagrama de Venn\n",
    "venn2([A, B], set_labels=('A', 'B'))\n",
    "\n",
    "# Mostrar el diagrama\n",
    "plt.title(\"Diagrama de Venn de A y B\")\n",
    "plt.show()\n"
   ]
  },
  {
   "cell_type": "code",
   "execution_count": null,
   "id": "30150e1c",
   "metadata": {},
   "outputs": [],
   "source": []
  }
 ],
 "metadata": {
  "kernelspec": {
   "display_name": "Python 3 (ipykernel)",
   "language": "python",
   "name": "python3"
  },
  "language_info": {
   "codemirror_mode": {
    "name": "ipython",
    "version": 3
   },
   "file_extension": ".py",
   "mimetype": "text/x-python",
   "name": "python",
   "nbconvert_exporter": "python",
   "pygments_lexer": "ipython3",
   "version": "3.11.5"
  }
 },
 "nbformat": 4,
 "nbformat_minor": 5
}
