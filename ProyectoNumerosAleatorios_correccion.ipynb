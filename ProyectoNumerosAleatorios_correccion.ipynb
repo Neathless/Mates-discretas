{
 "cells": [
  {
   "cell_type": "markdown",
   "id": "c6c266e4",
   "metadata": {},
   "source": [
    "# Generador de Números Aleatorios"
   ]
  },
  {
   "cell_type": "markdown",
   "id": "f69412ee",
   "metadata": {},
   "source": [
    "**Objetivo del Proyecto**\n",
    "\n",
    "El objetivo de este proyecto es implementar un generador de números pseudoaleatorios en Python utilizando el algoritmo Generador Congruencial Lineal (GCL), sin recurrir a la biblioteca random de Python. Este proyecto busca proporcionar una comprensión más profunda de cómo funcionan los generadores de números aleatorios a bajo nivel y ofrecer una alternativa personalizable al uso de bibliotecas preconstruidas."
   ]
  },
  {
   "cell_type": "markdown",
   "id": "90e749c5",
   "metadata": {},
   "source": [
    "<img src=https://i.ytimg.com/vi/KbKG7ILgDOQ/maxresdefault.jpg>"
   ]
  },
  {
   "cell_type": "markdown",
   "id": "d55cd4f9",
   "metadata": {},
   "source": [
    "**Descripción del Algoritmo GCL**\n",
    "El Generador Congruencial Lineal (GCL) es uno de los métodos más antiguos y simples para generar números pseudoaleatorios. La fórmula utilizada por el GCL es la siguiente:\n",
    "\n",
    "**semilla`n+1` = (a x semillan + c ) mod modulo**\n",
    "\n",
    "donde:\n",
    "`semilla` es el valor inicial (semilla).\n",
    "`a` es el multiplicador.\n",
    "`c` es el incremento.\n",
    "`modulo` es el modulo que define el rango de los numero generados."
   ]
  },
  {
   "cell_type": "markdown",
   "id": "936ba6f6",
   "metadata": {},
   "source": [
    "**Código del Proyecto**\n"
   ]
  },
  {
   "cell_type": "code",
   "execution_count": 1,
   "id": "3d94b138",
   "metadata": {},
   "outputs": [
    {
     "name": "stdout",
     "output_type": "stream",
     "text": [
      "¿Cuántos números únicos quieres generar? 10\n",
      "Ingresa el límite inferior del rango: 1\n",
      "Ingresa el límite superior del rango: 10\n",
      "Números únicos generados: [4, 3, 6, 5, 2, 10, 8, 9, 7, 1]\n"
     ]
    }
   ],
   "source": [
    "import time\n",
    "\n",
    "def lcg(seed, modulus, a, c):\n",
    "    \"\"\"Generador Congruencial Lineal.\"\"\"\n",
    "    while True:\n",
    "        seed = (a * seed + c) % modulus\n",
    "        yield seed\n",
    "\n",
    "def generate_unique_numbers(n, lower_bound, upper_bound):\n",
    "    \"\"\"Genera n números únicos dentro del rango lower_bound a upper_bound.\"\"\"\n",
    "    range_size = upper_bound - lower_bound + 1\n",
    "    if n > range_size:\n",
    "        raise ValueError(\"El rango es demasiado pequeño para generar n números únicos.\")\n",
    "\n",
    "    # Semilla inicial basada en el tiempo actual\n",
    "    seed = int(time.time())\n",
    "\n",
    "    # Parámetros para el LCG\n",
    "    modulus = 2**31 - 1\n",
    "    a = 1103515245\n",
    "    c = 12345\n",
    "\n",
    "    # Crear el generador\n",
    "    lcg_gen = lcg(seed, modulus, a, c)\n",
    "\n",
    "    # Lista de números posibles\n",
    "    numbers = list(range(lower_bound, upper_bound + 1))\n",
    "\n",
    "    # Barajar la lista de números utilizando el generador\n",
    "    for i in range(len(numbers) - 1, 0, -1):\n",
    "        j = next(lcg_gen) % (i + 1)\n",
    "        numbers[i], numbers[j] = numbers[j], numbers[i]\n",
    "\n",
    "    return numbers[:n]\n",
    "\n",
    "# Solicitar información al usuario\n",
    "try:\n",
    "    n = int(input(\"¿Cuántos números únicos quieres generar? \"))\n",
    "    lower_bound = int(input(\"Ingresa el límite inferior del rango: \"))\n",
    "    upper_bound = int(input(\"Ingresa el límite superior del rango: \"))\n",
    "\n",
    "    # Generar y mostrar los números únicos\n",
    "    unique_numbers = generate_unique_numbers(n, lower_bound, upper_bound)\n",
    "    print(f\"Números únicos generados: {unique_numbers}\")\n",
    "except ValueError as e:\n",
    "    print(f\"Error: {e}\")\n"
   ]
  },
  {
   "cell_type": "code",
   "execution_count": null,
   "id": "396c351a",
   "metadata": {},
   "outputs": [],
   "source": []
  }
 ],
 "metadata": {
  "kernelspec": {
   "display_name": "Python 3 (ipykernel)",
   "language": "python",
   "name": "python3"
  },
  "language_info": {
   "codemirror_mode": {
    "name": "ipython",
    "version": 3
   },
   "file_extension": ".py",
   "mimetype": "text/x-python",
   "name": "python",
   "nbconvert_exporter": "python",
   "pygments_lexer": "ipython3",
   "version": "3.11.4"
  }
 },
 "nbformat": 4,
 "nbformat_minor": 5
}
